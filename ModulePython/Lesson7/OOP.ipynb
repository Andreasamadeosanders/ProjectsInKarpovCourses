{
 "cells": [
  {
   "cell_type": "code",
   "execution_count": 1,
   "id": "54cb02b5",
   "metadata": {},
   "outputs": [
    {
     "data": {
      "text/plain": [
       "'\\nНапишите класс Triangle, который будет иметь 3 поля: a, b, c (стороны треугольника) и n_dots = 3 (количество точек). \\nПоле n_dots объявите на уровне класса, не в конструкторе — чтобы оно было доступно без создания объекта (т.е. работал вызов Triangle.n_dots). \\nДобавьте в класс простой конструктор, принимающий на вход все три стороны и сохраняющий эти стороны в соответсвующие поля класса.\\n\\nСоздайте объекты этого класса со следующими названиями: tr_1, tr_2 и любыми значениями длин сторон.\\n'"
      ]
     },
     "execution_count": 1,
     "metadata": {},
     "output_type": "execute_result"
    }
   ],
   "source": [
    "\"\"\"\n",
    "Напишите класс Triangle, который будет иметь 3 поля: a, b, c (стороны треугольника) и n_dots = 3 (количество точек). \n",
    "Поле n_dots объявите на уровне класса, не в конструкторе — чтобы оно было доступно без создания объекта (т.е. работал вызов Triangle.n_dots). \n",
    "Добавьте в класс простой конструктор, принимающий на вход все три стороны и сохраняющий эти стороны в соответсвующие поля класса.\n",
    "\n",
    "Создайте объекты этого класса со следующими названиями: tr_1, tr_2 и любыми значениями длин сторон.\n",
    "\"\"\""
   ]
  },
  {
   "cell_type": "code",
   "execution_count": 45,
   "id": "d9e77a6e",
   "metadata": {},
   "outputs": [],
   "source": [
    "class Triangle:\n",
    "    n_dots = 3\n",
    "    \n",
    "    def __init__(self, a, b, c):\n",
    "        if (a <= b+c) and (b <= a+c) and  (c <= b+a):\n",
    "            self.a = a\n",
    "            self.b = b\n",
    "            self.c = c\n",
    "        else:\n",
    "            raise ValueError(\"triangle inequality does not hold\")\n",
    "        \n",
    "    def area(self):\n",
    "        \n",
    "        p = self._perimetr()\n",
    "        return (p*(p-self.a)*(p-self.b)*(p-self.c))**0.5\n",
    "        \n",
    "    def _perimetr(self):\n",
    "        p = (self.a+self.b+self.c)*0.5\n",
    "        return p"
   ]
  },
  {
   "cell_type": "code",
   "execution_count": 50,
   "id": "a614a554",
   "metadata": {},
   "outputs": [],
   "source": [
    "class Rectangle(Triangle):\n",
    "    n_dots = 4\n",
    "    \n",
    "    def __init__(self, a, b):\n",
    "        self.a = a\n",
    "        self.b = b\n",
    "        \n",
    "    def area(self):\n",
    "        return self.a*self.b"
   ]
  },
  {
   "cell_type": "code",
   "execution_count": 51,
   "id": "9b4d1db2",
   "metadata": {},
   "outputs": [],
   "source": [
    "tr_1 = Triangle(1, 2, 3)\n",
    "tr_2 = Triangle(3, 4, 5)"
   ]
  },
  {
   "cell_type": "code",
   "execution_count": 52,
   "id": "9c74f237",
   "metadata": {},
   "outputs": [],
   "source": [
    "square_1 = tr_1.area()\n",
    "square_2 = tr_2.area()"
   ]
  },
  {
   "cell_type": "code",
   "execution_count": 53,
   "id": "60a43fba",
   "metadata": {},
   "outputs": [],
   "source": [
    "rec_1 = Rectangle(4, 5)"
   ]
  },
  {
   "cell_type": "code",
   "execution_count": 62,
   "id": "019d8943",
   "metadata": {},
   "outputs": [],
   "source": [
    "class BaseFigure:\n",
    "    \n",
    "    n_dots = None\n",
    "    \n",
    "    def __init__(self):\n",
    "        self.validate()\n",
    "    \n",
    "    def validate(self):\n",
    "        raise NotImplementedError()\n",
    "        \n",
    "    def area(self):\n",
    "        raise NotImplementedError()\n"
   ]
  },
  {
   "cell_type": "code",
   "execution_count": 124,
   "id": "65b072a6",
   "metadata": {},
   "outputs": [],
   "source": [
    "class Triangle(BaseFigure):\n",
    "    n_dots = 3\n",
    "    def __init__(self, a, b, c):\n",
    "        self.a = a\n",
    "        self.b = b\n",
    "        self.c = c\n",
    "        super().__init__()\n",
    "        \n",
    "    def validate(self):\n",
    "        sides = sorted([self.a, self.b, self.c])\n",
    "        if not(sides[2] <= sides[0]+sides[1]):\n",
    "            raise ValueError(\"triangle inequality does not hold\")\n",
    "    \n",
    "    def area(self):\n",
    "        p = self._perimetr()\n",
    "        return (p*(p-self.a)*(p-self.b)*(p-self.c))**0.5\n",
    "        \n",
    "    def _perimetr(self):\n",
    "        p = (self.a+self.b+self.c)*0.5\n",
    "        return p"
   ]
  },
  {
   "cell_type": "code",
   "execution_count": 129,
   "id": "147d9b7b",
   "metadata": {},
   "outputs": [],
   "source": [
    "class Rectangle(BaseFigure):\n",
    "    n_dots = 4\n",
    "    def __init__(self, a, b):\n",
    "        self.a = a\n",
    "        self.b = b\n",
    "        super().__init__()\n",
    "        \n",
    "    def validate(self):\n",
    "        pass\n",
    "    \n",
    "    def area(self):\n",
    "        return self.a*self.b"
   ]
  },
  {
   "cell_type": "code",
   "execution_count": 133,
   "id": "5da7fa78",
   "metadata": {},
   "outputs": [],
   "source": [
    "class Circle(BaseFigure):\n",
    "    n_dots = float('inf')\n",
    "    def __init__(self, r):\n",
    "        self.r = r\n",
    "        super().__init__()\n",
    "    def validate(self):\n",
    "        pass\n",
    "    def area(self):\n",
    "        return 3.14*(self.r**2)"
   ]
  },
  {
   "cell_type": "code",
   "execution_count": 134,
   "id": "156f41f5",
   "metadata": {},
   "outputs": [],
   "source": [
    "tr_1 = Rectangle(4, 5)"
   ]
  },
  {
   "cell_type": "code",
   "execution_count": 189,
   "id": "5cf2dfbb",
   "metadata": {},
   "outputs": [],
   "source": [
    "class Vector:\n",
    "    def __init__(self, coords: list):\n",
    "        self.coords = coords\n",
    "    def __add__(self, other):\n",
    "        if len(self.coords) == len(other.coords):\n",
    "            result_coords = []\n",
    "            for s_coord, o_coord in zip(self.coords, other.coords):\n",
    "                result_coords.append(s_coord+o_coord)\n",
    "            return Vector(result_coords)\n",
    "        else:\n",
    "            raise ValueError(f\"left and right lengths differ: {len(self.coords)} != {len(other.coords)}\")\n",
    "            \n",
    "    def __mul__(self, other):\n",
    "        if isinstance(other, Vector):\n",
    "            if len(self.coords) == len(other.coords):\n",
    "                result = 0\n",
    "                for s_coord, o_coord in zip(self.coords, other.coords):\n",
    "                    result += s_coord*o_coord\n",
    "                return result \n",
    "            else:\n",
    "                raise ValueError(f\"left and right lengths differ: {len(self.coords)} != {len(other.coords)}\")\n",
    "        elif isinstance(other, int):\n",
    "            result = []\n",
    "            for s_coord in self.coords:\n",
    "                result.append(s_coord*other)\n",
    "            return Vector(result)\n",
    "    \n",
    "    def __abs__(self):\n",
    "        return int((sum([x**2 for x in self.coords]))**0.5)\n",
    "    \n",
    "    def __eq__(self, other):\n",
    "        return all([x == y for x, y in zip(self.coords, other.coords)]) and len(self.coords) == len(other.coords)\n",
    "        \n",
    "    def __str__(self):\n",
    "        return \"[\"+\", \".join(map(str, self.coords))+\"]\""
   ]
  },
  {
   "cell_type": "code",
   "execution_count": 179,
   "id": "612ebcd4",
   "metadata": {},
   "outputs": [
    {
     "name": "stdout",
     "output_type": "stream",
     "text": [
      "7\n"
     ]
    }
   ],
   "source": [
    "print(Vector([1, 2, 3]) * Vector([2, -2, 3]))"
   ]
  },
  {
   "cell_type": "code",
   "execution_count": 180,
   "id": "bc7e3117",
   "metadata": {},
   "outputs": [
    {
     "name": "stdout",
     "output_type": "stream",
     "text": [
      "[10, 15, 25, 40]\n"
     ]
    }
   ],
   "source": [
    "print(Vector([2, 3, 5, 8]) * 5)"
   ]
  },
  {
   "cell_type": "code",
   "execution_count": 181,
   "id": "cd8f65f0",
   "metadata": {},
   "outputs": [
    {
     "data": {
      "text/plain": [
       "13.0"
      ]
     },
     "execution_count": 181,
     "metadata": {},
     "output_type": "execute_result"
    }
   ],
   "source": [
    "abs(Vector([-12, 5]))"
   ]
  },
  {
   "cell_type": "code",
   "execution_count": 184,
   "id": "421d4649",
   "metadata": {},
   "outputs": [
    {
     "data": {
      "text/plain": [
       "True"
      ]
     },
     "execution_count": 184,
     "metadata": {},
     "output_type": "execute_result"
    }
   ],
   "source": [
    "Vector([1, 3, 5]) == Vector([1, 3, 5])"
   ]
  },
  {
   "cell_type": "code",
   "execution_count": 185,
   "id": "e5a51492",
   "metadata": {},
   "outputs": [
    {
     "data": {
      "text/plain": [
       "False"
      ]
     },
     "execution_count": 185,
     "metadata": {},
     "output_type": "execute_result"
    }
   ],
   "source": [
    "Vector([1, 3, 5]) == Vector([-1, 3, 5])"
   ]
  },
  {
   "cell_type": "code",
   "execution_count": 186,
   "id": "043ac800",
   "metadata": {},
   "outputs": [
    {
     "data": {
      "text/plain": [
       "True"
      ]
     },
     "execution_count": 186,
     "metadata": {},
     "output_type": "execute_result"
    }
   ],
   "source": [
    "Vector([1, 3, 5]) == Vector([1])"
   ]
  },
  {
   "cell_type": "code",
   "execution_count": 190,
   "id": "4d1b99de",
   "metadata": {},
   "outputs": [
    {
     "data": {
      "text/plain": [
       "False"
      ]
     },
     "execution_count": 190,
     "metadata": {},
     "output_type": "execute_result"
    }
   ],
   "source": [
    "Vector([1, 3]) == Vector([1, 3, 5])"
   ]
  },
  {
   "cell_type": "code",
   "execution_count": 216,
   "id": "88be5036",
   "metadata": {},
   "outputs": [],
   "source": [
    "request = {\n",
    "  \"cookies\": {'1': 'hui', '2': 'jopa', 'auth_key': 'vagine'},\n",
    "  \"body\": \"a long time ago, in a Galaxy far, far away\",\n",
    "  \"headers\": {\"content-type\": \"application/json\", \"Accept\": \"application/json\"}\n",
    "}"
   ]
  },
  {
   "cell_type": "code",
   "execution_count": 218,
   "id": "e15b3f5e",
   "metadata": {},
   "outputs": [],
   "source": [
    "request = {\n",
    "  \"cookies\": {'1': 'hui', '2': 'jopa', 'auth_key': 'vagine'},\n",
    "  \"body\": '{\"a\": 123, \"b\": 1234}',\n",
    "  \"headers\": {\"content-type\": \"application/json\", \"Accept\": \"application/json\"}\n",
    "}"
   ]
  },
  {
   "cell_type": "code",
   "execution_count": 212,
   "id": "f4d57dc3",
   "metadata": {},
   "outputs": [],
   "source": [
    "class ParsesCookies:\n",
    "    def cookies(self):\n",
    "        return self.request[\"cookies\"]\n",
    "    def is_authed(self):\n",
    "        return 'auth_key' in self.cookies().keys()"
   ]
  },
  {
   "cell_type": "code",
   "execution_count": 213,
   "id": "a3b3167b",
   "metadata": {},
   "outputs": [],
   "source": [
    "class ParsesBody:\n",
    "    def body(self):\n",
    "        return self.request[\"body\"]"
   ]
  },
  {
   "cell_type": "code",
   "execution_count": 214,
   "id": "6caf769b",
   "metadata": {},
   "outputs": [],
   "source": [
    "class ParsesHeaders:\n",
    "    def headers(self):\n",
    "        return self.request[\"headers\"]\n",
    "    def need_json(self):\n",
    "        return self.headers().get('content-type') == 'application/json'"
   ]
  },
  {
   "cell_type": "code",
   "execution_count": 228,
   "id": "01c95e11",
   "metadata": {},
   "outputs": [],
   "source": [
    "import json\n",
    "\n",
    "class JsonHandler(ParsesBody, ParsesHeaders):\n",
    "    def __init__(self, request):\n",
    "        self.request = request\n",
    "    def process(self):\n",
    "        if self.need_json():\n",
    "            try:\n",
    "                return len(json.loads(self.body()))\n",
    "            except ValueError:\n",
    "                return None\n",
    "        else:\n",
    "            return None"
   ]
  },
  {
   "cell_type": "code",
   "execution_count": 229,
   "id": "030886a5",
   "metadata": {},
   "outputs": [
    {
     "name": "stdout",
     "output_type": "stream",
     "text": [
      "None\n"
     ]
    }
   ],
   "source": [
    "request = {\n",
    "  \"cookies\": {'1': 'hui', '2': 'jopa', 'auth_key': 'vagine'},\n",
    "  \"body\": \"a long time ago, in a Galaxy far, far away\",\n",
    "  \"headers\": {\"content-type\": \"application/json\", \"Accept\": \"application/json\"}\n",
    "}\n",
    "print(JsonHandler(request).process())"
   ]
  },
  {
   "cell_type": "code",
   "execution_count": 232,
   "id": "ec1ed1e3",
   "metadata": {},
   "outputs": [],
   "source": [
    "class SecureTextHandler(ParsesBody, ParsesHeaders, ParsesCookies):\n",
    "    def __init__(self, request):\n",
    "        self.request = request\n",
    "    def process(self):\n",
    "        if self.is_authed():\n",
    "            return len(self.body())\n",
    "        else:\n",
    "            return None"
   ]
  },
  {
   "cell_type": "code",
   "execution_count": 233,
   "id": "dfd14d69",
   "metadata": {},
   "outputs": [
    {
     "name": "stdout",
     "output_type": "stream",
     "text": [
      "5\n"
     ]
    }
   ],
   "source": [
    "r = {'cookies': {'auth_key': '123'},\n",
    "     'body': 'hello'\n",
    "    }\n",
    "print(SecureTextHandler(r).process())"
   ]
  },
  {
   "cell_type": "code",
   "execution_count": 234,
   "id": "6e12d7b9",
   "metadata": {},
   "outputs": [
    {
     "name": "stdout",
     "output_type": "stream",
     "text": [
      "None\n"
     ]
    }
   ],
   "source": [
    "r = {'cookies': {},\n",
    "     'body': 'hello'\n",
    "    }\n",
    "print(SecureTextHandler(r).process())"
   ]
  },
  {
   "cell_type": "markdown",
   "id": "e2481bdc",
   "metadata": {},
   "source": [
    "Это пример на **полужирный**, _курсивный_ текст. А еще код обычно выделяют `monospace` текстом (на русском называется моноширинным)."
   ]
  },
  {
   "cell_type": "code",
   "execution_count": 56,
   "id": "e087f7f8",
   "metadata": {},
   "outputs": [],
   "source": [
    "tasks = {1: ['Полить цветы кот', 'Забрать посылку кот', ' цветы кот', 'Полить  кота'],\n",
    "0:['Покормить кота'],\n",
    "2:['Почитать книгу по программированию'],\n",
    "3:['Ответить на письмо двоюродной тети']}"
   ]
  },
  {
   "cell_type": "code",
   "execution_count": 52,
   "id": "ccab01e7",
   "metadata": {},
   "outputs": [
    {
     "name": "stdout",
     "output_type": "stream",
     "text": [
      "['Полить цветы кот', 'Забрать посылку кот', 'Покормить кота']\n"
     ]
    }
   ],
   "source": [
    "answer = []\n",
    "while len(answer) < 2:\n",
    "    for priority in tasks:\n",
    "        if priority < 2:\n",
    "            TASK = tasks.get(priority)\n",
    "            for string in TASK:\n",
    "                if 'кот' in string:\n",
    "                    answer.append(string)\n",
    "        else:\n",
    "            continue\n",
    "    break\n",
    "print(answer)"
   ]
  },
  {
   "cell_type": "code",
   "execution_count": 53,
   "id": "9b2da91d",
   "metadata": {},
   "outputs": [
    {
     "name": "stdout",
     "output_type": "stream",
     "text": [
      "Полить цветы кот\n",
      "Забрать посылку кот\n",
      "Покормить кота\n",
      "уже много работы, выходим\n"
     ]
    },
    {
     "data": {
      "text/plain": [
       "['Полить цветы кот', 'Забрать посылку кот']"
      ]
     },
     "execution_count": 53,
     "metadata": {},
     "output_type": "execute_result"
    }
   ],
   "source": [
    "answer = []\n",
    "for key in tasks:\n",
    "    if key >= 2:\n",
    "        continue\n",
    "    for one_task in tasks[key]:\n",
    "        print(one_task)\n",
    "        if len(answer) >= 2:\n",
    "            print(\"уже много работы, выходим\")\n",
    "            break\n",
    "        if 'кот' in one_task:\n",
    "            answer.append(one_task)\n",
    "answer"
   ]
  },
  {
   "cell_type": "code",
   "execution_count": 58,
   "id": "e4372a24",
   "metadata": {},
   "outputs": [],
   "source": [
    "tasks = {1: ['Полить цветы кот', 'Забрать посылку кот', ' цветы кот', 'Полить  кота'],\n",
    "0:['Покормить кота'],\n",
    "2:['Почитать книгу по программированию'],\n",
    "3:['Ответить на письмо двоюродной тети']}"
   ]
  },
  {
   "cell_type": "code",
   "execution_count": 59,
   "id": "d358d8af",
   "metadata": {},
   "outputs": [
    {
     "name": "stdout",
     "output_type": "stream",
     "text": [
      "['Полить цветы кот', 'Забрать посылку кот', ' цветы кот', 'Полить  кота']\n"
     ]
    }
   ],
   "source": [
    "answer = []\n",
    "for i in tasks:\n",
    "    if len(answer) < 2:\n",
    "        for j in tasks.get(i):\n",
    "            if 'кот' in j:\n",
    "                answer.append(j)\n",
    "    else:\n",
    "        break\n",
    "print(answer)"
   ]
  },
  {
   "cell_type": "code",
   "execution_count": null,
   "id": "1e882b4d",
   "metadata": {},
   "outputs": [],
   "source": []
  }
 ],
 "metadata": {
  "kernelspec": {
   "display_name": "Python 3",
   "language": "python",
   "name": "python3"
  },
  "language_info": {
   "codemirror_mode": {
    "name": "ipython",
    "version": 3
   },
   "file_extension": ".py",
   "mimetype": "text/x-python",
   "name": "python",
   "nbconvert_exporter": "python",
   "pygments_lexer": "ipython3",
   "version": "3.8.8"
  }
 },
 "nbformat": 4,
 "nbformat_minor": 5
}
