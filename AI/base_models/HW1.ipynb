{
 "cells": [
  {
   "cell_type": "code",
   "execution_count": 1,
   "id": "bb77fb8d",
   "metadata": {},
   "outputs": [],
   "source": [
    "import torch"
   ]
  },
  {
   "cell_type": "code",
   "execution_count": 2,
   "id": "3675810f",
   "metadata": {},
   "outputs": [],
   "source": [
    "\"\"\"\n",
    "Напишите функцию function01. Она должна иметь следующую сигнатуру:\n",
    "\n",
    "def function01(tensor: torch.Tensor, count_over: str):\n",
    "\n",
    "Если count_over равен columns, верните среднее тензора по колонкам. Если равен rows, то верните среднее по рядам. \n",
    "Гарантируется, что тензор будет матрицей (то есть будет иметь размерность 2).\n",
    "Отправляемый файл должен иметь расширение .py\n",
    "\"\"\"\n",
    "\n",
    "def function01(tensor: torch.Tensor, count_over: str):\n",
    "    if count_over == \"columns\":\n",
    "        return torch.mean(tensor, dim=0)\n",
    "    elif count_over == \"rows\":\n",
    "        return torch.mean(tensor, dim=1)"
   ]
  },
  {
   "cell_type": "code",
   "execution_count": 3,
   "id": "634bc8f8",
   "metadata": {},
   "outputs": [],
   "source": [
    "\"\"\"\n",
    "Напишите функцию function02. Функции на вход должен приходить датасет — тензор-матрица признаков объектов. \n",
    "Ваша функция должна создать тензор-вектор с весами (пусть они будут из равномерного распределения на отрезке от 0 до 1) \n",
    "и вернуть их для дальнейшего обучения линейной регрессии без свободного коэффициента. \n",
    "Сделайте эти веса типа float32, для них нужно будет в процессе обучения вычислять градиенты (воспользуйтесь requires_grad).\n",
    "\"\"\"\n",
    "\n",
    "def function02(tensor: torch.Tensor):\n",
    "    return torch.randn(tensor.size(dim=1), dtype=torch.float32, requires_grad = True)"
   ]
  },
  {
   "cell_type": "code",
   "execution_count": 7,
   "id": "218ddf33",
   "metadata": {},
   "outputs": [
    {
     "data": {
      "text/plain": [
       "tensor([-0.8706,  1.4600], requires_grad=True)"
      ]
     },
     "execution_count": 7,
     "metadata": {},
     "output_type": "execute_result"
    }
   ],
   "source": [
    "n_features = 2\n",
    "n_objects = 300\n",
    "\n",
    "w_true = torch.randn(n_features)\n",
    "X = (torch.rand(n_objects, n_features) - 0.5) * 5\n",
    "Y = X @ w_true + torch.randn(n_objects) / 2\n",
    "function02(X)"
   ]
  },
  {
   "cell_type": "code",
   "execution_count": 4,
   "id": "4053d2ab",
   "metadata": {},
   "outputs": [],
   "source": [
    "\"\"\"\n",
    "Напишите функцию function03. Она должна принимать тензор-матрицу с объектами и тензор-вектор с правильными ответами, \n",
    "будем решать задачу регрессии: def function03(x: torch.Tensor, y: torch.Tensor):\n",
    "\n",
    "Создайте внутри функции веса для линейной регрессии (без свободного коэффициента), можете воспользоваться функцией из предыдущего степа. \n",
    "С помощью градиентного спуска подберите оптимальные веса для входных данных (используйте длину шага около 1e-2). Верните тензор-вектор с оптимальными весами из функции. \n",
    "Ваши обученные веса должны давать MSE на обучающей выборке меньше единицы.\n",
    "\n",
    "\n",
    "Входные данные будут выглядеть примерно так:\n",
    "\n",
    "n_features = 2\n",
    "n_objects = 300\n",
    "\n",
    "w_true = torch.randn(n_features)\n",
    "X = (torch.rand(n_objects, n_features) - 0.5) * 5\n",
    "Y = X @ w_true + torch.randn(n_objects) / 2\n",
    "\n",
    "\"\"\"\n",
    "\n",
    "def function03(x: torch.Tensor, y: torch.Tensor):\n",
    "    w = function02(x)\n",
    "    step_size = 1e-2\n",
    "\n",
    "    k = 0\n",
    "    y_pred = torch.matmul(x, w)\n",
    "    mse = torch.mean(((y - y_pred) ** 2))\n",
    "\n",
    "    while mse > 1:\n",
    "        k += 1\n",
    "        mse.backward()\n",
    "\n",
    "        with torch.no_grad():\n",
    "            w -= w.grad * step_size\n",
    "        w.grad.zero_()\n",
    "\n",
    "        y_pred = torch.matmul(x, w)\n",
    "        mse = torch.mean(((y - y_pred) ** 2))\n",
    "\n",
    "    return w"
   ]
  },
  {
   "cell_type": "code",
   "execution_count": 79,
   "id": "f4682aa6",
   "metadata": {},
   "outputs": [],
   "source": [
    "n_features = 2\n",
    "n_objects = 300\n",
    "\n",
    "w_true = torch.randn(n_features)\n",
    "X = (torch.rand(n_objects, n_features) - 0.5) * 5\n",
    "Y = X @ w_true + torch.randn(n_objects)/2"
   ]
  },
  {
   "cell_type": "code",
   "execution_count": 80,
   "id": "d485349f",
   "metadata": {},
   "outputs": [
    {
     "name": "stdout",
     "output_type": "stream",
     "text": [
      "(10) mse = 1.1256473064422607\n"
     ]
    },
    {
     "data": {
      "text/plain": [
       "tensor(0.9474, grad_fn=<MeanBackward0>)"
      ]
     },
     "execution_count": 80,
     "metadata": {},
     "output_type": "execute_result"
    }
   ],
   "source": [
    "function03(X, Y)"
   ]
  },
  {
   "cell_type": "code",
   "execution_count": 136,
   "id": "0df973eb",
   "metadata": {},
   "outputs": [],
   "source": [
    "\"\"\"\n",
    "Напишите функцию function04. Она должна принимать тензор-матрицу с объектами и тензор с правильными ответами, \n",
    "будем решать задачу регрессии: def function04(x: torch.Tensor, y: torch.Tensor):\n",
    "\n",
    "Создайте внутри функции полносвязный слой, обучите этот полносвязный слой на входных данных с помощью градиентного спуска \n",
    "(используйте длину шага около 1e-2). Верните его из функции. \n",
    "Ваш полносвязный слой должен давать MSE на обучающей выборке меньше 0.3.\n",
    "\n",
    "Отправляемый файл должен иметь расширение .py\n",
    "\n",
    "Входные данные будут выглядеть примерно так:\n",
    "\n",
    "n_features = 2\n",
    "n_objects = 300\n",
    "\n",
    "w_true = torch.randn(n_features)\n",
    "X = (torch.rand(n_objects, n_features) - 0.5) * 5\n",
    "Y = X @ w_true + torch.randn(n_objects) / 2\n",
    "\"\"\"\n",
    "from torch import nn\n",
    "\n",
    "def function04(x: torch.Tensor, y: torch.Tensor):\n",
    "    step_size = 1e-2\n",
    "    \n",
    "    n_features = x.size(dim=1)\n",
    "    layer = nn.Linear(in_features=n_features, out_features=1, bias=True)\n",
    "    \n",
    "    y_pred = layer(x)\n",
    "    mse = torch.mean((y_pred.ravel()-y)**2)\n",
    "    k = 0\n",
    "    while mse > 0.3:\n",
    "        k += 1\n",
    "        mse.backward()\n",
    "        with torch.no_grad():\n",
    "            layer.weight -= layer.weight.grad * step_size\n",
    "            layer.bias -= layer.bias.grad * step_size\n",
    "        layer.zero_grad()\n",
    "        y_pred = layer(x)\n",
    "        mse = torch.mean((y_pred.ravel()-y)**2)\n",
    "        if k % 10 == 0:\n",
    "            print(f\"({k}) mse = {mse}\")\n",
    "    return layer"
   ]
  },
  {
   "cell_type": "code",
   "execution_count": 137,
   "id": "dffdd1f9",
   "metadata": {},
   "outputs": [],
   "source": [
    "n_features = 2\n",
    "n_objects = 300\n",
    "\n",
    "w_true = torch.randn(n_features)\n",
    "X = (torch.rand(n_objects, n_features) - 0.5) * 5\n",
    "Y = X @ w_true + torch.randn(n_objects) / 2"
   ]
  },
  {
   "cell_type": "code",
   "execution_count": 138,
   "id": "57be48b5",
   "metadata": {},
   "outputs": [
    {
     "name": "stdout",
     "output_type": "stream",
     "text": [
      "(10) mse = 0.877109706401825\n",
      "(20) mse = 0.6111004948616028\n",
      "(30) mse = 0.4745664894580841\n",
      "(40) mse = 0.40095409750938416\n",
      "(50) mse = 0.359333336353302\n",
      "(60) mse = 0.33478569984436035\n",
      "(70) mse = 0.3197951018810272\n",
      "(80) mse = 0.3103906810283661\n",
      "(90) mse = 0.3043721914291382\n",
      "(100) mse = 0.3004654347896576\n"
     ]
    },
    {
     "data": {
      "text/plain": [
       "Linear(in_features=2, out_features=1, bias=True)"
      ]
     },
     "execution_count": 138,
     "metadata": {},
     "output_type": "execute_result"
    }
   ],
   "source": [
    "function04(X, Y)"
   ]
  },
  {
   "cell_type": "code",
   "execution_count": null,
   "id": "6bc1bafa",
   "metadata": {},
   "outputs": [],
   "source": []
  }
 ],
 "metadata": {
  "kernelspec": {
   "display_name": "Python 3 (ipykernel)",
   "language": "python",
   "name": "python3"
  },
  "language_info": {
   "codemirror_mode": {
    "name": "ipython",
    "version": 3
   },
   "file_extension": ".py",
   "mimetype": "text/x-python",
   "name": "python",
   "nbconvert_exporter": "python",
   "pygments_lexer": "ipython3",
   "version": "3.9.12"
  }
 },
 "nbformat": 4,
 "nbformat_minor": 5
}
