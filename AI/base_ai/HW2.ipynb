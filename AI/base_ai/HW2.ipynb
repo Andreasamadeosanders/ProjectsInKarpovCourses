{
 "cells": [
  {
   "cell_type": "code",
   "execution_count": 2,
   "id": "99457bbf",
   "metadata": {},
   "outputs": [],
   "source": [
    "import torch\n",
    "import torch.nn as nn"
   ]
  },
  {
   "cell_type": "code",
   "execution_count": 32,
   "id": "1ce653fb",
   "metadata": {},
   "outputs": [],
   "source": [
    "\"\"\"\n",
    "Напишите функцию create_model, которая должна возвращать полносвязную нейронную сеть из двух слоев. \n",
    "На вход должно быть 100 чисел, на выход 1, посередине 10. В качестве нелинейности используйте ReLU. \n",
    "Воспользуйтесь nn.Sequential и передайте слои как последовательность\n",
    "\"\"\"\n",
    "\n",
    "def create_model():\n",
    "    net = nn.Sequential(\n",
    "        nn.Linear(100, 10),\n",
    "        nn.ReLU(),\n",
    "        nn.Linear(10, 1)\n",
    "    )\n",
    "    return net"
   ]
  },
  {
   "cell_type": "code",
   "execution_count": 29,
   "id": "187cc715",
   "metadata": {},
   "outputs": [],
   "source": [
    "\"\"\"\n",
    "Напишите функцию train. Она должна принимать на вход нейронную сеть, даталоадер, оптимизатор и функцию потерь. \n",
    "Она должна иметь следующую сигнатуру: def train(model: nn.Module, data_loader: DataLoader, optimizer: Optimizer, loss_fn):\n",
    "\n",
    "Внутри функции сделайте следующие шаги:\n",
    "\n",
    "1. Переведите модель в режим обучения.\n",
    "\n",
    "2. Проитерируйтесь по даталоадеру.\n",
    "\n",
    "3. На каждой итерации:\n",
    "\n",
    "    - Занулите градиенты с помощью оптимизатора\n",
    "\n",
    "    - Сделайте проход вперед (forward pass)\n",
    "\n",
    "    - Посчитайте ошибку\n",
    "\n",
    "    - Сделайте проход назад (backward pass)\n",
    "\n",
    "    - Напечатайте ошибку на текущем батче с точностью до 5 символов после запятой (только число)\n",
    "\n",
    "    - Сделайте шаг оптимизации\n",
    "\n",
    "Функция должна вернуть среднюю ошибку за время прохода по даталоадеру.\n",
    "\"\"\"\n",
    "from torch.utils.data import DataLoader\n",
    "from torch.utils.data import DataLoader\n",
    "from torch.optim import Optimizer\n",
    "\n",
    "def train(model: nn.Module, data_loader: DataLoader, optimizer: Optimizer, loss_fn):\n",
    "    model.train()\n",
    "    loss_model = 0\n",
    "    for x, y in data_loader:\n",
    "        optimizer.zero_grad()\n",
    "        output = model(x)\n",
    "        loss = loss_fn(output, y)\n",
    "        loss.backward()\n",
    "        print(f\"{loss.item():.5f}\")\n",
    "        loss_model += loss.item()\n",
    "        optimizer.step()\n",
    "    loss_model /= len(data_loader)\n",
    "    return loss_model"
   ]
  },
  {
   "cell_type": "code",
   "execution_count": 14,
   "id": "5d16d067",
   "metadata": {},
   "outputs": [],
   "source": [
    "from torch.utils.data import Dataset\n",
    "from torch.utils.data import TensorDataset"
   ]
  },
  {
   "cell_type": "code",
   "execution_count": 15,
   "id": "80cf5939",
   "metadata": {},
   "outputs": [],
   "source": [
    "class CustomDataset(Dataset):\n",
    "    def __init__(self, w_true, n_features, n_objects):\n",
    "        self.X = (torch.rand(n_objects, n_features) - 0.5) * 10\n",
    "        self.X *= (torch.arange(n_features) * 2 + 1)\n",
    "        self.Y = self.X @ w_true + torch.randn(n_objects)\n",
    "\n",
    "    def __len__(self):\n",
    "        return len(self.Y)\n",
    "\n",
    "    def __getitem__(self, item):\n",
    "        return self.X[item], self.Y[item]"
   ]
  },
  {
   "cell_type": "code",
   "execution_count": 16,
   "id": "c9625c8f",
   "metadata": {},
   "outputs": [],
   "source": [
    "n_features = 2\n",
    "n_objects = 300\n",
    "\n",
    "torch.manual_seed(0);\n",
    "w_true = torch.randn(n_features)\n",
    "\n",
    "X = (torch.rand(n_objects, n_features) - 0.5) * 10\n",
    "X *= (torch.arange(n_features) * 2 + 1)\n",
    "Y = (X @ w_true + torch.randn(n_objects)).unsqueeze(1)"
   ]
  },
  {
   "cell_type": "code",
   "execution_count": 17,
   "id": "867f908c",
   "metadata": {},
   "outputs": [],
   "source": [
    "dataset = CustomDataset(w_true, n_features, n_objects)"
   ]
  },
  {
   "cell_type": "code",
   "execution_count": 33,
   "id": "0e53abb2",
   "metadata": {},
   "outputs": [],
   "source": [
    "from torch import optim\n",
    "\n",
    "model = create_model()\n",
    "loader = DataLoader(dataset, batch_size=4, shuffle=True)\n",
    "optimizer = optim.Adam(model.parameters(), lr=0.0001)"
   ]
  },
  {
   "cell_type": "code",
   "execution_count": 36,
   "id": "7b7a3559",
   "metadata": {},
   "outputs": [],
   "source": [
    "\"\"\"\n",
    "Напишите функцию evaluate. Она должна принимать на вход нейронную сеть, даталоадер и функцию потерь. \n",
    "Она должна иметь следующую сигнатуру: def evaluate(model: nn.Module, data_loader: DataLoader, loss_fn):\n",
    "\n",
    "Внутри функции сделайте следующие шаги:\n",
    "\n",
    "1. Переведите модель в режим инференса (применения)\n",
    "\n",
    "2. Проитерируйтесь по даталоадеру\n",
    "\n",
    "3. На каждой итерации:\n",
    "\n",
    "    - Сделайте проход вперед (forward pass)\n",
    "\n",
    "    - Посчитайте ошибку\n",
    "\n",
    "Функция должна вернуть среднюю ошибку за время прохода по даталоадеру.\n",
    "\"\"\"\n",
    "@torch.no_grad()\n",
    "def evaluate(model: nn.Module, data_loader: DataLoader, loss_fn):\n",
    "    model.eval()\n",
    "    total_loss = 0\n",
    "    for x, y in data_loader:\n",
    "        output = model(x)\n",
    "        loss = loss_fn(output, y)\n",
    "        total_loss += loss.item()\n",
    "    total_loss /= len(data_loader)\n",
    "    return total_loss"
   ]
  },
  {
   "cell_type": "code",
   "execution_count": null,
   "id": "41b50539",
   "metadata": {},
   "outputs": [],
   "source": []
  }
 ],
 "metadata": {
  "kernelspec": {
   "display_name": "Python 3 (ipykernel)",
   "language": "python",
   "name": "python3"
  },
  "language_info": {
   "codemirror_mode": {
    "name": "ipython",
    "version": 3
   },
   "file_extension": ".py",
   "mimetype": "text/x-python",
   "name": "python",
   "nbconvert_exporter": "python",
   "pygments_lexer": "ipython3",
   "version": "3.9.12"
  }
 },
 "nbformat": 4,
 "nbformat_minor": 5
}
